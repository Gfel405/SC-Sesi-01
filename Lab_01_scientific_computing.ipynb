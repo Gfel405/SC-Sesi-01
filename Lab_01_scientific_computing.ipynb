{
  "cells": [
    {
      "cell_type": "markdown",
      "metadata": {
        "id": "view-in-github",
        "colab_type": "text"
      },
      "source": [
        "<a href=\"https://colab.research.google.com/github/Gfel405/SC-Sesi-01/blob/main/Lab_01_scientific_computing.ipynb\" target=\"_parent\"><img src=\"https://colab.research.google.com/assets/colab-badge.svg\" alt=\"Open In Colab\"/></a>"
      ]
    },
    {
      "cell_type": "code",
      "execution_count": null,
      "metadata": {
        "colab": {
          "base_uri": "https://localhost:8080/"
        },
        "id": "y_vvA1_NO9Ot",
        "outputId": "f99d0ea6-efcc-492b-edcc-affd0945fd59"
      },
      "outputs": [
        {
          "name": "stdout",
          "output_type": "stream",
          "text": [
            "Wed Feb 15 08:45:42 2023\n"
          ]
        }
      ],
      "source": [
        "import time\n",
        "print (time.ctime())"
      ]
    },
    {
      "cell_type": "code",
      "execution_count": null,
      "metadata": {
        "colab": {
          "base_uri": "https://localhost:8080/"
        },
        "id": "RoAldz60PpzK",
        "outputId": "946ee587-be2a-4e7c-eb24-c31503d7503d"
      },
      "outputs": [
        {
          "data": {
            "text/plain": [
              "1"
            ]
          },
          "execution_count": 3,
          "metadata": {},
          "output_type": "execute_result"
        }
      ],
      "source": [
        "x = 1\n",
        "x"
      ]
    },
    {
      "cell_type": "code",
      "execution_count": null,
      "metadata": {
        "colab": {
          "base_uri": "https://localhost:8080/"
        },
        "id": "58Sb1RbdPyYI",
        "outputId": "d47b7579-0a22-42eb-ffc3-d5cb0342ef6a"
      },
      "outputs": [
        {
          "name": "stdout",
          "output_type": "stream",
          "text": [
            "2\n",
            "3\n"
          ]
        }
      ],
      "source": [
        "x = 2\n",
        "y = 3 \n",
        "print (x)\n",
        "print (y)"
      ]
    },
    {
      "cell_type": "code",
      "execution_count": null,
      "metadata": {
        "colab": {
          "base_uri": "https://localhost:8080/"
        },
        "id": "LvWN7f32Qlh_",
        "outputId": "81b11676-c29a-43b3-fd0c-1611510d4487"
      },
      "outputs": [
        {
          "data": {
            "text/plain": [
              "2"
            ]
          },
          "execution_count": 6,
          "metadata": {},
          "output_type": "execute_result"
        }
      ],
      "source": [
        "x = 1\n",
        "y = x + 1\n",
        "x = 2 \n",
        "y"
      ]
    },
    {
      "cell_type": "code",
      "execution_count": null,
      "metadata": {
        "colab": {
          "base_uri": "https://localhost:8080/"
        },
        "id": "nTUz_3MuRbsP",
        "outputId": "19055893-7135-4528-8b82-637b78fd1d20"
      },
      "outputs": [
        {
          "data": {
            "text/plain": [
              "array([1, 4, 3])"
            ]
          },
          "execution_count": 7,
          "metadata": {},
          "output_type": "execute_result"
        }
      ],
      "source": [
        "import numpy as np\n",
        "x = np.array([1, 4, 3])\n",
        "x"
      ]
    },
    {
      "cell_type": "code",
      "execution_count": null,
      "metadata": {
        "colab": {
          "base_uri": "https://localhost:8080/"
        },
        "id": "2EdFY8cnStZo",
        "outputId": "a92de7a8-b8c6-4b86-ca38-ca36f2dd697b"
      },
      "outputs": [
        {
          "data": {
            "text/plain": [
              "array([[1, 4, 3],\n",
              "       [9, 2, 7]])"
            ]
          },
          "execution_count": 9,
          "metadata": {},
          "output_type": "execute_result"
        }
      ],
      "source": [
        "y = np.array([[1, 4, 3], [9, 2, 7]])\n",
        "y"
      ]
    },
    {
      "cell_type": "code",
      "execution_count": null,
      "metadata": {
        "id": "EYJEuy8rTvvI"
      },
      "outputs": [],
      "source": [
        "\n",
        "def my_adder(a, b, c):\n",
        "\"\"\"\n",
        "Function to sum the 3 numbers \n",
        "Input: 3 numbers a, b, c\n",
        "Output : the sum of a, b, and c \n",
        "Author: \n",
        "Date:\n",
        "\"\"\"\n",
        "\n",
        "#this is the sumation\n",
        "   out = a + b + c\n",
        "   return out"
      ]
    },
    {
      "cell_type": "code",
      "execution_count": null,
      "metadata": {
        "colab": {
          "base_uri": "https://localhost:8080/"
        },
        "id": "RxST4d07U-By",
        "outputId": "42f3ccd6-e3c3-464a-85fc-aca89089c666"
      },
      "outputs": [
        {
          "data": {
            "text/plain": [
              "6"
            ]
          },
          "execution_count": 16,
          "metadata": {},
          "output_type": "execute_result"
        }
      ],
      "source": [
        "my_adder(1, 2, 3)"
      ]
    },
    {
      "cell_type": "code",
      "execution_count": null,
      "metadata": {
        "colab": {
          "base_uri": "https://localhost:8080/"
        },
        "id": "U7okNbKxWz1q",
        "outputId": "295fbc03-91f9-4bfe-d558-44a8d4455b69"
      },
      "outputs": [
        {
          "name": "stdout",
          "output_type": "stream",
          "text": [
            "Help on function my_adder in module __main__:\n",
            "\n",
            "my_adder(a, b, c)\n",
            "\n"
          ]
        }
      ],
      "source": [
        "help(my_adder)"
      ]
    },
    {
      "cell_type": "code",
      "execution_count": null,
      "metadata": {
        "id": "WOx2HJMhX74G"
      },
      "outputs": [],
      "source": [
        " def my_thermo_stat(temp, desired_temp):\n",
        "   if temp < desired_temp - 5:\n",
        "      status = 'heat'\n",
        "   elif temp > desired_temp + 5:\n",
        "      status = 'AC'\n",
        "   else:\n",
        "      status = 'off'\n",
        "   return status"
      ]
    },
    {
      "cell_type": "code",
      "execution_count": null,
      "metadata": {
        "colab": {
          "base_uri": "https://localhost:8080/"
        },
        "id": "VzLv_ahRZLqZ",
        "outputId": "7494f737-ee82-4557-9247-63bf29a04293"
      },
      "outputs": [
        {
          "name": "stdout",
          "output_type": "stream",
          "text": [
            "heat\n"
          ]
        }
      ],
      "source": [
        "status = my_thermo_stat(65,75)\n",
        "print(status)"
      ]
    },
    {
      "cell_type": "code",
      "execution_count": null,
      "metadata": {
        "colab": {
          "background_save": true
        },
        "id": "yMiAPvZSZkOt",
        "outputId": "e0cfaea9-bc7a-438e-f232-1cc366ee4424"
      },
      "outputs": [
        {
          "name": "stdout",
          "output_type": "stream",
          "text": [
            "AC\n"
          ]
        }
      ],
      "source": [
        "status = my_thermo_stat(65,75)\n",
        "print(status)"
      ]
    }
  ],
  "metadata": {
    "colab": {
      "provenance": [],
      "authorship_tag": "ABX9TyPsawKme5hXJz6YouGjjyQg",
      "include_colab_link": true
    },
    "kernelspec": {
      "display_name": "Python 3",
      "name": "python3"
    },
    "language_info": {
      "name": "python"
    }
  },
  "nbformat": 4,
  "nbformat_minor": 0
}